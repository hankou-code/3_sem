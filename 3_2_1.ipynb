{
  "nbformat": 4,
  "nbformat_minor": 0,
  "metadata": {
    "colab": {
      "name": "3.2.1",
      "provenance": [],
      "collapsed_sections": [],
      "authorship_tag": "ABX9TyNnUhXTATD/sBdYbp33CfJj",
      "include_colab_link": true
    },
    "kernelspec": {
      "name": "python3",
      "display_name": "Python 3"
    },
    "language_info": {
      "name": "python"
    }
  },
  "cells": [
    {
      "cell_type": "markdown",
      "metadata": {
        "id": "view-in-github",
        "colab_type": "text"
      },
      "source": [
        "<a href=\"https://colab.research.google.com/github/hankou-code/3_sem/blob/master/3_2_1.ipynb\" target=\"_parent\"><img src=\"https://colab.research.google.com/assets/colab-badge.svg\" alt=\"Open In Colab\"/></a>"
      ]
    },
    {
      "cell_type": "markdown",
      "metadata": {
        "id": "ymo7FV0xInU3"
      },
      "source": [
        "Рабочий ноутбук для лабораторной работы 3.2.1 Сдвиг фаз в цепи переменного тока.\n",
        "\n",
        "Данные были сняты с установки номер:\n",
        "\n",
        "Дата выполнения работы: 2 октября 2021 года \\\\\n",
        "Авторы работы: Ганьков Роман"
      ]
    },
    {
      "cell_type": "code",
      "metadata": {
        "id": "4OPIhYoXtO0t"
      },
      "source": [
        "import numpy as np\n",
        "import matplotlib.pyplot as plt"
      ],
      "execution_count": 2,
      "outputs": []
    },
    {
      "cell_type": "code",
      "metadata": {
        "colab": {
          "base_uri": "https://localhost:8080/"
        },
        "id": "svSm7SHjqKvl",
        "outputId": "71c1b669-3228-4b55-8015-72abe8122132"
      },
      "source": [
        "# mount drive\n",
        "from google.colab import drive\n",
        "drive.mount('/content/gdrive')"
      ],
      "execution_count": 3,
      "outputs": [
        {
          "output_type": "stream",
          "name": "stdout",
          "text": [
            "Mounted at /content/gdrive\n"
          ]
        }
      ]
    },
    {
      "cell_type": "markdown",
      "metadata": {
        "id": "kS9EwNDQ-32_"
      },
      "source": [
        "Вспомогательные функции"
      ]
    },
    {
      "cell_type": "code",
      "metadata": {
        "id": "rSOEmyMVq4Yd"
      },
      "source": [
        "class DataHandler:\n",
        "    def __init__(self, x, y, prefix=\"\"):\n",
        "        self.prefix = prefix\n",
        "        self.x = x\n",
        "        self.y = y\n",
        "        self.n = x.size\n",
        "\n",
        "    def computation_coefficients_with_lsm(self):\n",
        "        # y = mx + c -----> y = Ap\n",
        "        A = np.vstack([self.x, np.ones(len(self.x))]).T\n",
        "        m, c = np.linalg.lstsq(A, self.y, rcond=None)[0]\n",
        "        self.m = m\n",
        "        self.c = c\n",
        "    \n",
        "    def computation_std_and_relative_error(self):\n",
        "        # y_predicted was predicted with using the least squares method\n",
        "        absolute_diff_y = self.y - self.m * self.x - self.c\n",
        "        # standart deviation of y\n",
        "        y_std = absolute_diff_y.std(axis=0, ddof=1)\n",
        "        y_mean = self.y.mean()\n",
        "        # relative error in determining the value of v [in percentes]\n",
        "        y_relative = y_std / y_mean * 100\n",
        "        self.y_std = y_std\n",
        "        self.y_relative = y_relative\n",
        "\n",
        "    def print_lsm_data(self):\n",
        "        print(f\"y = {self.m:.{3}}x + {self.c:.{3}}\")\n",
        "        print(f\"std: {self.y_std:.{3}}\")\n",
        "        print(f\"relative error: {self.y_relative:.{3}}%\")\n",
        "\n",
        "    def computation(self):\n",
        "        self.computation_coefficients_with_lsm()\n",
        "        self.computation_std_and_relative_error()\n",
        "        self.computation_mean_square_error()\n",
        "        self.predict_polynomial_function()\n",
        "\n",
        "    def return_experimental_data_for_plotting(self, fmt='b-', label_name='Origin'):\n",
        "        return [self.x, self.y, self.y_std, label_name, fmt]\n",
        "\n",
        "    def return_lsm_for_plotting(self, fmt='r'):\n",
        "        y = self.m * self.x + self.c\n",
        "        \n",
        "        # label_name = f\"LSM predicted: [y={self.m:.{3}}*x + {self.c:.{3}}, std = {self.y_std:.{3}}, relative = {self.y_relative:.{3}}%] \"\n",
        "        label_name = f\"LSM {self.prefix}: [y=({self.m:.{3}} +- {self.sigma_m:.{1}})*x + ({self.c:.{3}} +- {self.sigma_c:.{1}}\"\n",
        "        return [self.x, y, self.y_std, label_name, fmt]\n",
        "\n",
        "    def return_polynomial_for_plotting(self, fmt='g'):\n",
        "        y = self.polynomial_function(self.x)\n",
        "        label_name = f\" polynomial line {self.prefix} \"\n",
        "        # label_name = f\" Polynom predicted: [{self.polynomial_function}]] \"\n",
        "        return [self.x, y, self.y_std, label_name, fmt]\n",
        "\n",
        "    def return_lsm_coefs(self):\n",
        "        return self.m, self.c\n",
        "\n",
        "    def computation_mean_square_error(self):\n",
        "        # D_xx, D_yy\n",
        "        covariance_xx = np.average(np.square(self.x)) - np.square(np.average(self.x))\n",
        "        covariance_yy = np.average(np.square(self.y)) - np.square(np.average(self.y))\n",
        "        sigma_m_square = (1 / self.n - 2) * (covariance_yy / covariance_xx - np.square(self.m))\n",
        "        sigma_c_square = sigma_m_square * np.average(np.square(self.x))\n",
        "        self.sigma_m = np.sqrt(np.abs(sigma_m_square))\n",
        "        self.sigma_c = np.sqrt(np.abs(sigma_c_square))\n",
        "\n",
        "\n",
        "    def predict_polynomial_function(self, polynomial_order=7):\n",
        "        polynomial_coefs = np.polyfit(self.x, self.y, polynomial_order)\n",
        "        polynomial_function = np.poly1d(polynomial_coefs)\n",
        "        self.polynomial_function = polynomial_function        \n",
        "\n",
        "\n",
        "\n",
        "class DataVisualizer:\n",
        "    def __init__(self, name_shedule=\"Test\", images_dir='/content/gdrive/My Drive/phys_labs/', xlabel=\"\", ylabel=\"\"):\n",
        "        self.name_shedule = name_shedule\n",
        "        self.images_dir = images_dir\n",
        "        self.num_lines = 0\n",
        "        self.xlabel = xlabel\n",
        "        self.ylabel = ylabel\n",
        "        \n",
        "    def add_line_to_graph(self, x, y, name, fmt, lsm_line = False, polynom_line = False, prefix=\"\"):\n",
        "        handler = DataHandler(x, y, prefix)\n",
        "        handler.computation()\n",
        "\n",
        "        curve = handler.return_experimental_data_for_plotting(label_name=name, fmt=fmt)\n",
        "        lsm_curve = handler.return_lsm_for_plotting()\n",
        "        polynom_curve = handler.return_polynomial_for_plotting()\n",
        "\n",
        "        prepared_data = [curve]\n",
        "\n",
        "        if (lsm_line):\n",
        "            prepared_data = np.concatenate(([curve], [lsm_curve]), axis=0)\n",
        "\n",
        "        if (polynom_line):\n",
        "            prepared_data = np.concatenate(([curve], [polynom_curve]), axis=0)\n",
        "\n",
        "        if self.num_lines == 0:\n",
        "            self.data = prepared_data\n",
        "        elif self.num_lines == 1:\n",
        "            self.data = np.concatenate((self.data, prepared_data), axis=0)\n",
        "        else:\n",
        "            self.data = np.concatenate((self.data, prepared_data), axis=0)\n",
        "\n",
        "        self.num_lines += 1\n",
        "        \n",
        "    # TODO: добавить возможность печати линии отдельно от графика\n",
        "    def print_theoretically_calculated_dependence(self):\n",
        "        pass\n",
        "\n",
        "    def plot_lines(self):\n",
        "        plt.figure(figsize=(15, 9))\n",
        "        plt.xlabel(self.xlabel)\n",
        "        plt.ylabel(self.ylabel)\n",
        "        for x, y, y_std, label_name, fmt in self.data:\n",
        "            self.plot_line(x, y, y_std, label_name, fmt)\n",
        "        self.save_plot()\n",
        "\n",
        "    def plot_line(self, x, y, y_std, label_name, fmt='b', with_error_bar = False):\n",
        "        plt.plot(x, y, fmt, label=label_name, markersize=2)\n",
        "        if (with_error_bar):\n",
        "            plt.errorbar(x, y, yerr=y_std, fmt=\".\")\n",
        "        plt.legend()\n",
        "\n",
        "    def save_plot(self):\n",
        "        # saving image at google drive\n",
        "        plt.savefig(f\"{self.images_dir}/{self.name_shedule}.png\", dpi = 300)\n",
        "\n",
        "    # TODO: настроить отцентровку осей\n",
        "    def axes_centralization(self):\n",
        "        pass\n"
      ],
      "execution_count": 4,
      "outputs": []
    },
    {
      "cell_type": "markdown",
      "metadata": {
        "id": "53WP-kZ2ku63"
      },
      "source": [
        "Графики для RC цепи"
      ]
    },
    {
      "cell_type": "code",
      "metadata": {
        "id": "ESwQDnmGkxRx"
      },
      "source": [
        "R = np.array([0, 400, 800, 1200, 1600, 2000, 2400, 2800, 3200]) # сопротивление в Омах\n",
        "\n",
        "r = 12 # там около 12 Ом было, мало в общем\n",
        "pi = 3.14\n",
        "C = 0.5 * 1.0e-6 # Ф\n",
        "frequency = 1000 # Гц\n",
        "omega = 2 * pi * frequency\n",
        "\n",
        "delta_phi = np.array([0.0, 0.4, 0.7, 1.1, 1.4, 1.7, 2.0, 2.2, 2.4]) # отклонение от начальной позиции в клетках, в меньшую сторону\n",
        "phi_0 = 5 # начальное отклонение в клетках, соответствует разнице фаз в pi/2\n",
        "phi_0_radian = pi / 2\n",
        "\n",
        "delta = phi_0 - delta_phi # разница фаз в клетках\n",
        "delta_radians = (delta / phi_0) * phi_0_radian # например 4.6 клеток делим на 5 клеток и умножаем на pi/2\n",
        "\n",
        "varphi = delta_radians\n",
        "\n",
        "R_sum = R + r \n",
        "\n",
        "x = omega * C * R_sum\n",
        "y = np.cos(varphi) / np.sin(varphi)\n",
        "\n",
        "xlabel = \"w*C*R_sum\"\n",
        "ylabel = \"ctg(varphi)\""
      ],
      "execution_count": 10,
      "outputs": []
    },
    {
      "cell_type": "code",
      "metadata": {
        "colab": {
          "base_uri": "https://localhost:8080/",
          "height": 552
        },
        "id": "F32Ugtprn6uz",
        "outputId": "511b73c1-623d-4c8f-ca60-ee21741972fc"
      },
      "source": [
        "dv = DataVisualizer(name_shedule=\"RC\", xlabel = xlabel, ylabel=ylabel)\n",
        "dv.add_line_to_graph(x=x, y=y, name=\"зависимость в RC цепи\", fmt=\"s\")\n",
        "dv.plot_lines()"
      ],
      "execution_count": 13,
      "outputs": [
        {
          "output_type": "display_data",
          "data": {
            "image/png": "[encoded data removed]",
            "text/plain": [
              "<Figure size 1080x648 with 1 Axes>"
            ]
          },
          "metadata": {
            "needs_background": "light"
          }
        }
      ]
    },
    {
      "cell_type": "markdown",
      "metadata": {
        "id": "nPIPtkGco5cL"
      },
      "source": [
        "RL цепь"
      ]
    },
    {
      "cell_type": "code",
      "metadata": {
        "id": "QDret6yEo3wi"
      },
      "source": [
        "R = np.array([0, 400, 800, 1200, 1600, 2000, 2400, 2800, 3200, 4200, 5200, 6200, 7200, 8200, 9200, 10000]) # сопротивление в Омах\n",
        "\n",
        "r = 12 # там около 12 Ом было, мало в общем\n",
        "pi = 3.14\n",
        "L = 50 * 1.0e-3\n",
        "frequency = 1000 # Гц\n",
        "omega = 2 * pi * frequency\n",
        "R_L = omega * L\n",
        "\n",
        "delta_phi = np.array([1.2, 1.0, 0.9, 0.8, 0.8, 0.7, 0.6, 0.6, 0.5, 0.4, 0.3, 0.3, 0.2, 0.2, 0.2, 0.1]) # разница фаз в клетках\n",
        "phi_0 = 1.2 # начальное отклонение в клетках, соответствует разнице фаз в pi/2\n",
        "phi_0_radian = pi / 2\n",
        "\n",
        "delta_radians = (delta_phi / phi_0) * phi_0_radian # например 1.0 клеток делим на 1.2 клетки и умножаем на pi/2\n",
        "\n",
        "varphi = delta_radians\n",
        "\n",
        "R_sum = R + r + R_L\n",
        "\n",
        "x = R_sum / (omega * L)\n",
        "y = np.cos(varphi) / np.sin(varphi)\n",
        "xlabel = \"R_sum / (omega * L)\"\n",
        "ylabel = \"ctg(varphi)\""
      ],
      "execution_count": 23,
      "outputs": []
    },
    {
      "cell_type": "code",
      "metadata": {
        "colab": {
          "base_uri": "https://localhost:8080/",
          "height": 552
        },
        "id": "ckmwiwAOqUb2",
        "outputId": "35c447cb-dde0-4455-da76-18bd6af56187"
      },
      "source": [
        "dv = DataVisualizer(name_shedule=\"RL\", xlabel = xlabel, ylabel=ylabel)\n",
        "dv.add_line_to_graph(x=x, y=y, name=\"зависимость в RL цепи\", fmt=\"s\")\n",
        "dv.plot_lines()"
      ],
      "execution_count": 22,
      "outputs": [
        {
          "output_type": "display_data",
          "data": {
            "image/png": "[encoded data removed]",
            "text/plain": [
              "<Figure size 1080x648 with 1 Axes>"
            ]
          },
          "metadata": {
            "needs_background": "light"
          }
        }
      ]
    },
    {
      "cell_type": "markdown",
      "metadata": {
        "id": "mdPOlqLvrGP8"
      },
      "source": [
        "RCL цепь"
      ]
    },
    {
      "cell_type": "code",
      "metadata": {
        "id": "miWT2hfBrFy7"
      },
      "source": [
        ""
      ],
      "execution_count": null,
      "outputs": []
    },
    {
      "cell_type": "code",
      "metadata": {
        "id": "4Ga4gl9iL26d"
      },
      "source": [
        "x = np.array([-0.8, -1.2, -0.8, -0.2, -0.1, 0.0, 0.2, 0.4, 0.6, 0.7, 0.7, 0.6, 0.6])\n",
        "x_0 = np.array([2.6, 5.0, 8.5, 6.4, 5.6, 1.0, 9.3, 7.3, 5.7, 4.1, 3.0, 2.0, 1.8])\n",
        "pi = 3.14\n",
        "delta_phi = (x / x_0) * pi\n",
        "\n",
        "frequency  = np.array([100, 200, 600, 800, 900, 1000, 1100, 1400, 1800, 2500, 3500, 5000, 6000]) # Гц\n",
        "\n",
        "x = frequency\n",
        "y = delta_phi\n",
        "\n",
        "xlabel = \"частота в герцах\"\n",
        "ylabel = \"отклонение в радианах\""
      ],
      "execution_count": null,
      "outputs": []
    },
    {
      "cell_type": "code",
      "metadata": {
        "id": "TPqAZh9_wLTb"
      },
      "source": [
        "dh = DataVisualizer(name_shedule=\"3.2.1\", xlabel=xlabel, ylabel=ylabel)\n",
        "dh.add_line_to_graph(x=x, y=y, name=\"Измеренная зависимость вверх\", fmt='s')\n",
        "\n",
        "dh.plot_lines()"
      ],
      "execution_count": null,
      "outputs": []
    }
  ]
}